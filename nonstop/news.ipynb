{
 "cells": [
  {
   "cell_type": "markdown",
   "id": "0deb1908-c600-4591-aabd-6d92b2d730fb",
   "metadata": {},
   "source": [
    "# News Classification"
   ]
  },
  {
   "cell_type": "code",
   "execution_count": 19,
   "id": "85a5a9d1-914c-44e2-9692-53b6f283e66a",
   "metadata": {},
   "outputs": [],
   "source": [
    "### I have applied 3 machine learning models on the scrapped data.\n",
    "### Accuracy for following models were: \n",
    "### Naive Bayes :- 80%\n",
    "### SVM :- 71%\n",
    "### Logistic Classification :- 71%"
   ]
  },
  {
   "cell_type": "code",
   "execution_count": 18,
   "id": "ec9da2f6-886f-4be6-b034-6aefc6fdf30e",
   "metadata": {},
   "outputs": [],
   "source": [
    "# Importing required libraries for scrapping"
   ]
  },
  {
   "cell_type": "code",
   "execution_count": 1,
   "id": "d08f5713-641d-48c2-8694-dfa168f10548",
   "metadata": {},
   "outputs": [],
   "source": [
    "import requests\n",
    "from bs4 import BeautifulSoup as bs\n",
    "from urllib.request import urlopen as uReq"
   ]
  },
  {
   "cell_type": "markdown",
   "id": "85240b85-4d2e-4bc9-8f08-50c825c70908",
   "metadata": {},
   "source": [
    "### Scrapping title and category of news from times now news"
   ]
  },
  {
   "cell_type": "code",
   "execution_count": 2,
   "id": "11b193b1-2afa-48f2-b700-378cfe7c5356",
   "metadata": {},
   "outputs": [],
   "source": [
    "news=\"timesnownews\"\n",
    "news_url = \"https://www.\"+news+\".com\"\n",
    "uClient = uReq(news_url)\n",
    "newsPage = uClient.read()\n",
    "uClient.close()\n",
    "news_html = bs(newsPage, \"html.parser\")"
   ]
  },
  {
   "cell_type": "code",
   "execution_count": 3,
   "id": "a3f8c03c-af13-40c0-8c49-62e12c9f1a23",
   "metadata": {},
   "outputs": [],
   "source": [
    "categories = (news_html.find(\"div\", {\"class\": \"-QxR\"}))\n",
    "a1=categories.findAll('li')\n"
   ]
  },
  {
   "cell_type": "code",
   "execution_count": 4,
   "id": "fde2b008-1673-4926-a2f2-893a4b9b077c",
   "metadata": {},
   "outputs": [
    {
     "name": "stdout",
     "output_type": "stream",
     "text": [
      "Latest News\n",
      "Entertainment\n",
      "India\n",
      "Business\n",
      "World Cup\n",
      "Viral\n",
      "Health\n",
      "Lifestyle\n",
      "Bigg Boss 17\n",
      "Videos\n",
      "Let's Talk Growth\n",
      "LOT 2023\n"
     ]
    }
   ],
   "source": [
    "A=[]\n",
    "for j in a1:\n",
    "    print(j.a.text)\n",
    "    temp=uReq(j.a.get('href'))\n",
    "    temppage=temp.read()\n",
    "    temp.close()\n",
    "    temp_html=bs(temppage,\"html.parser\")\n",
    "    t=temp_html.findAll(\"div\",{\"class\":\"_2LXp\"})\n",
    "    k=0\n",
    "    for i in t:\n",
    "        if(k%2==0):\n",
    "            n=i.text\n",
    "            if(n[0:2].isdigit()):\n",
    "                n=n[4:]\n",
    "                A.append([j.a.text,n])\n",
    "            else:\n",
    "                A.append([j.a.text,n])\n",
    "            k+=1\n",
    "        else:\n",
    "            k+=1\n",
    "    "
   ]
  },
  {
   "cell_type": "code",
   "execution_count": 5,
   "id": "4a5dcf8f-64ef-4361-a87d-74fa19fc7a99",
   "metadata": {},
   "outputs": [],
   "source": [
    "# Adding the data to csv file"
   ]
  },
  {
   "cell_type": "code",
   "execution_count": 6,
   "id": "3c8e3eb7-d088-4f8c-b813-4db769984ac2",
   "metadata": {},
   "outputs": [],
   "source": [
    "import csv\n",
    "fields = ['Category','Title'] \n",
    " \n",
    "with open('news_class.csv', 'w') as f:\n",
    "     \n",
    "    write = csv.writer(f)\n",
    "     \n",
    "    write.writerow(fields)\n",
    "    write.writerows(A)"
   ]
  },
  {
   "cell_type": "code",
   "execution_count": 1,
   "id": "b036bc62-cdf7-491f-b479-c0ce54fac94f",
   "metadata": {},
   "outputs": [],
   "source": [
    "import pandas as pd\n",
    "df=pd.read_csv('news_class.csv')"
   ]
  },
  {
   "cell_type": "code",
   "execution_count": 2,
   "id": "560b3953-1331-4e18-a166-6f68813dc37b",
   "metadata": {},
   "outputs": [],
   "source": [
    "#Dividing the data into train_data and test_data"
   ]
  },
  {
   "cell_type": "code",
   "execution_count": 3,
   "id": "cb92fdaa-5ad4-419b-9426-b494079d64f8",
   "metadata": {},
   "outputs": [],
   "source": [
    "X=df.Title\n",
    "Y=df.Category\n",
    "from sklearn.model_selection import train_test_split\n",
    "X_train,X_test,y_train,y_test=train_test_split(X,Y,test_size=0.2,random_state=23)"
   ]
  },
  {
   "cell_type": "code",
   "execution_count": 4,
   "id": "32e16119-6f48-40ff-9811-1e784b40ddf7",
   "metadata": {},
   "outputs": [],
   "source": [
    "from sklearn.feature_extraction.text import TfidfVectorizer\n",
    "tfidf=TfidfVectorizer()\n",
    "tfidf_train=tfidf.fit_transform(X_train)\n",
    "tfidf_test=tfidf.transform(X_test)"
   ]
  },
  {
   "cell_type": "code",
   "execution_count": null,
   "id": "c93b5079-36b2-4eef-92af-b8d25ea4f789",
   "metadata": {},
   "outputs": [],
   "source": []
  },
  {
   "cell_type": "markdown",
   "id": "5ed9db8b-a065-493c-bce0-27ba8a0c977f",
   "metadata": {},
   "source": [
    "## Naive Bayes"
   ]
  },
  {
   "cell_type": "code",
   "execution_count": 5,
   "id": "6723742d-6baa-4b3e-b29f-032e8f623ea2",
   "metadata": {},
   "outputs": [
    {
     "data": {
      "text/html": [
       "<style>#sk-container-id-1 {color: black;background-color: white;}#sk-container-id-1 pre{padding: 0;}#sk-container-id-1 div.sk-toggleable {background-color: white;}#sk-container-id-1 label.sk-toggleable__label {cursor: pointer;display: block;width: 100%;margin-bottom: 0;padding: 0.3em;box-sizing: border-box;text-align: center;}#sk-container-id-1 label.sk-toggleable__label-arrow:before {content: \"▸\";float: left;margin-right: 0.25em;color: #696969;}#sk-container-id-1 label.sk-toggleable__label-arrow:hover:before {color: black;}#sk-container-id-1 div.sk-estimator:hover label.sk-toggleable__label-arrow:before {color: black;}#sk-container-id-1 div.sk-toggleable__content {max-height: 0;max-width: 0;overflow: hidden;text-align: left;background-color: #f0f8ff;}#sk-container-id-1 div.sk-toggleable__content pre {margin: 0.2em;color: black;border-radius: 0.25em;background-color: #f0f8ff;}#sk-container-id-1 input.sk-toggleable__control:checked~div.sk-toggleable__content {max-height: 200px;max-width: 100%;overflow: auto;}#sk-container-id-1 input.sk-toggleable__control:checked~label.sk-toggleable__label-arrow:before {content: \"▾\";}#sk-container-id-1 div.sk-estimator input.sk-toggleable__control:checked~label.sk-toggleable__label {background-color: #d4ebff;}#sk-container-id-1 div.sk-label input.sk-toggleable__control:checked~label.sk-toggleable__label {background-color: #d4ebff;}#sk-container-id-1 input.sk-hidden--visually {border: 0;clip: rect(1px 1px 1px 1px);clip: rect(1px, 1px, 1px, 1px);height: 1px;margin: -1px;overflow: hidden;padding: 0;position: absolute;width: 1px;}#sk-container-id-1 div.sk-estimator {font-family: monospace;background-color: #f0f8ff;border: 1px dotted black;border-radius: 0.25em;box-sizing: border-box;margin-bottom: 0.5em;}#sk-container-id-1 div.sk-estimator:hover {background-color: #d4ebff;}#sk-container-id-1 div.sk-parallel-item::after {content: \"\";width: 100%;border-bottom: 1px solid gray;flex-grow: 1;}#sk-container-id-1 div.sk-label:hover label.sk-toggleable__label {background-color: #d4ebff;}#sk-container-id-1 div.sk-serial::before {content: \"\";position: absolute;border-left: 1px solid gray;box-sizing: border-box;top: 0;bottom: 0;left: 50%;z-index: 0;}#sk-container-id-1 div.sk-serial {display: flex;flex-direction: column;align-items: center;background-color: white;padding-right: 0.2em;padding-left: 0.2em;position: relative;}#sk-container-id-1 div.sk-item {position: relative;z-index: 1;}#sk-container-id-1 div.sk-parallel {display: flex;align-items: stretch;justify-content: center;background-color: white;position: relative;}#sk-container-id-1 div.sk-item::before, #sk-container-id-1 div.sk-parallel-item::before {content: \"\";position: absolute;border-left: 1px solid gray;box-sizing: border-box;top: 0;bottom: 0;left: 50%;z-index: -1;}#sk-container-id-1 div.sk-parallel-item {display: flex;flex-direction: column;z-index: 1;position: relative;background-color: white;}#sk-container-id-1 div.sk-parallel-item:first-child::after {align-self: flex-end;width: 50%;}#sk-container-id-1 div.sk-parallel-item:last-child::after {align-self: flex-start;width: 50%;}#sk-container-id-1 div.sk-parallel-item:only-child::after {width: 0;}#sk-container-id-1 div.sk-dashed-wrapped {border: 1px dashed gray;margin: 0 0.4em 0.5em 0.4em;box-sizing: border-box;padding-bottom: 0.4em;background-color: white;}#sk-container-id-1 div.sk-label label {font-family: monospace;font-weight: bold;display: inline-block;line-height: 1.2em;}#sk-container-id-1 div.sk-label-container {text-align: center;}#sk-container-id-1 div.sk-container {/* jupyter's `normalize.less` sets `[hidden] { display: none; }` but bootstrap.min.css set `[hidden] { display: none !important; }` so we also need the `!important` here to be able to override the default hidden behavior on the sphinx rendered scikit-learn.org. See: https://github.com/scikit-learn/scikit-learn/issues/21755 */display: inline-block !important;position: relative;}#sk-container-id-1 div.sk-text-repr-fallback {display: none;}</style><div id=\"sk-container-id-1\" class=\"sk-top-container\"><div class=\"sk-text-repr-fallback\"><pre>MultinomialNB()</pre><b>In a Jupyter environment, please rerun this cell to show the HTML representation or trust the notebook. <br />On GitHub, the HTML representation is unable to render, please try loading this page with nbviewer.org.</b></div><div class=\"sk-container\" hidden><div class=\"sk-item\"><div class=\"sk-estimator sk-toggleable\"><input class=\"sk-toggleable__control sk-hidden--visually\" id=\"sk-estimator-id-1\" type=\"checkbox\" checked><label for=\"sk-estimator-id-1\" class=\"sk-toggleable__label sk-toggleable__label-arrow\">MultinomialNB</label><div class=\"sk-toggleable__content\"><pre>MultinomialNB()</pre></div></div></div></div></div>"
      ],
      "text/plain": [
       "MultinomialNB()"
      ]
     },
     "execution_count": 5,
     "metadata": {},
     "output_type": "execute_result"
    }
   ],
   "source": [
    "from sklearn.naive_bayes import MultinomialNB\n",
    "classifier=MultinomialNB()\n",
    "classifier.fit(tfidf_train,y_train)"
   ]
  },
  {
   "cell_type": "code",
   "execution_count": 6,
   "id": "bc9363de-a0ac-4b99-b0a8-56500b5dadb0",
   "metadata": {},
   "outputs": [],
   "source": [
    "y_pred=classifier.predict(tfidf_test)"
   ]
  },
  {
   "cell_type": "code",
   "execution_count": 7,
   "id": "308dd482-7921-4b73-8a72-c9e5b71db054",
   "metadata": {},
   "outputs": [
    {
     "name": "stdout",
     "output_type": "stream",
     "text": [
      "accuracy:  0.8064516129032258\n"
     ]
    }
   ],
   "source": [
    "#accuracy\n",
    "from sklearn.metrics import accuracy_score,classification_report\n",
    "print(\"accuracy: \",accuracy_score(y_pred,y_test))"
   ]
  },
  {
   "cell_type": "code",
   "execution_count": 8,
   "id": "68a2d775-f979-40a8-a9e4-fde1ad313244",
   "metadata": {},
   "outputs": [
    {
     "name": "stdout",
     "output_type": "stream",
     "text": [
      "               precision    recall  f1-score   support\n",
      "\n",
      "     Business       1.00      0.83      0.91         6\n",
      "Entertainment       0.89      0.89      0.89         9\n",
      "       Health       0.75      0.75      0.75         4\n",
      "        India       0.83      0.83      0.83         6\n",
      "    Lifestyle       0.57      0.67      0.62         6\n",
      "\n",
      "     accuracy                           0.81        31\n",
      "    macro avg       0.81      0.79      0.80        31\n",
      " weighted avg       0.82      0.81      0.81        31\n",
      "\n"
     ]
    }
   ],
   "source": [
    "print(classification_report(y_pred,y_test))"
   ]
  },
  {
   "cell_type": "code",
   "execution_count": null,
   "id": "8e9cd18e-fd71-446b-9114-5710ba66181d",
   "metadata": {},
   "outputs": [],
   "source": []
  },
  {
   "cell_type": "markdown",
   "id": "86fcf92e-199e-489c-858c-ddaab86e8954",
   "metadata": {},
   "source": [
    "## SVC - Support Vector Machine"
   ]
  },
  {
   "cell_type": "code",
   "execution_count": 9,
   "id": "96735100-5e64-4309-989f-6217b28ee545",
   "metadata": {},
   "outputs": [],
   "source": [
    "from sklearn.svm import SVC"
   ]
  },
  {
   "cell_type": "code",
   "execution_count": 10,
   "id": "7d09c06f-e441-4e4a-8960-a943f3037c49",
   "metadata": {},
   "outputs": [],
   "source": [
    "from sklearn.svm import SVC\n",
    "\n",
    "svm_classifier = SVC(kernel='linear')\n",
    "svm_classifier.fit(tfidf_train, y_train)\n",
    "\n",
    "svm_predictions = svm_classifier.predict(tfidf_test)\n",
    "\n"
   ]
  },
  {
   "cell_type": "code",
   "execution_count": 11,
   "id": "c41671d2-0f06-4e9f-925d-908a2110d3aa",
   "metadata": {},
   "outputs": [
    {
     "name": "stdout",
     "output_type": "stream",
     "text": [
      "SVM Accuracy: 0.71\n"
     ]
    }
   ],
   "source": [
    "svm_accuracy = accuracy_score(y_test, svm_predictions)\n",
    "print(f'SVM Accuracy: {svm_accuracy:.2f}')"
   ]
  },
  {
   "cell_type": "code",
   "execution_count": 12,
   "id": "a42107e8-5138-450a-bbc5-1112ce763b7c",
   "metadata": {},
   "outputs": [
    {
     "name": "stdout",
     "output_type": "stream",
     "text": [
      "SVM Classification Report:\n",
      "               precision    recall  f1-score   support\n",
      "\n",
      "     Business       0.80      0.80      0.80         5\n",
      "Entertainment       0.88      0.78      0.82         9\n",
      "       Health       0.60      0.75      0.67         4\n",
      "        India       0.67      0.67      0.67         6\n",
      "    Lifestyle       0.57      0.57      0.57         7\n",
      "\n",
      "     accuracy                           0.71        31\n",
      "    macro avg       0.70      0.71      0.71        31\n",
      " weighted avg       0.72      0.71      0.71        31\n",
      "\n"
     ]
    }
   ],
   "source": [
    "print('SVM Classification Report:')\n",
    "print(classification_report(y_test, svm_predictions))\n"
   ]
  },
  {
   "cell_type": "code",
   "execution_count": null,
   "id": "1ac6a271-a3ab-4e47-b594-a64a507cbba4",
   "metadata": {},
   "outputs": [],
   "source": []
  },
  {
   "cell_type": "markdown",
   "id": "527c77cd-710c-451b-8732-adf7027ba7d4",
   "metadata": {},
   "source": [
    "## Logistic Classification"
   ]
  },
  {
   "cell_type": "code",
   "execution_count": 13,
   "id": "109e9cdb-cb91-4cbf-ac3a-aac3d7f2921b",
   "metadata": {},
   "outputs": [],
   "source": [
    "from sklearn.linear_model import LogisticRegression\n",
    "log_classifier=LogisticRegression(multi_class='ovr',solver='lbfgs')"
   ]
  },
  {
   "cell_type": "code",
   "execution_count": 14,
   "id": "795f3c4a-9820-4147-aed1-642f652905ab",
   "metadata": {},
   "outputs": [],
   "source": [
    "log_classifier.fit(tfidf_train,y_train)\n",
    "log_pred=log_classifier.predict(tfidf_test)"
   ]
  },
  {
   "cell_type": "code",
   "execution_count": 15,
   "id": "d26973ff-8390-4cc6-a5e9-789ce968bb9d",
   "metadata": {},
   "outputs": [
    {
     "name": "stdout",
     "output_type": "stream",
     "text": [
      "0.7096774193548387\n"
     ]
    }
   ],
   "source": [
    "log_accuracy = accuracy_score(y_test, log_pred)\n",
    "print(log_accuracy)"
   ]
  },
  {
   "cell_type": "code",
   "execution_count": 16,
   "id": "6300d793-ca56-4d24-9241-1398e0f3ca9d",
   "metadata": {},
   "outputs": [
    {
     "name": "stdout",
     "output_type": "stream",
     "text": [
      "Classification_report\n",
      "               precision    recall  f1-score   support\n",
      "\n",
      "     Business       0.80      0.80      0.80         5\n",
      "Entertainment       0.88      0.78      0.82         9\n",
      "       Health       0.75      0.75      0.75         4\n",
      "        India       0.62      0.83      0.71         6\n",
      "    Lifestyle       0.50      0.43      0.46         7\n",
      "\n",
      "     accuracy                           0.71        31\n",
      "    macro avg       0.71      0.72      0.71        31\n",
      " weighted avg       0.71      0.71      0.71        31\n",
      "\n"
     ]
    }
   ],
   "source": [
    "print(\"Classification_report\")\n",
    "print(classification_report(y_test,log_pred))"
   ]
  },
  {
   "cell_type": "code",
   "execution_count": 8,
   "id": "1d42592c-7ecc-41d5-a264-afe889c97a65",
   "metadata": {},
   "outputs": [
    {
     "name": "stdout",
     "output_type": "stream",
     "text": [
      "Collecting newspaper3k\n",
      "  Downloading newspaper3k-0.2.8-py3-none-any.whl (211 kB)\n",
      "\u001b[2K     \u001b[90m━━━━━━━━━━━━━━━━━━━━━━━━━━━━━━━━━━━━━━━\u001b[0m \u001b[32m211.1/211.1 kB\u001b[0m \u001b[31m5.5 MB/s\u001b[0m eta \u001b[36m0:00:00\u001b[0ma \u001b[36m0:00:01\u001b[0m\n",
      "\u001b[?25hRequirement already satisfied: requests>=2.10.0 in /opt/conda/lib/python3.10/site-packages (from newspaper3k) (2.28.1)\n",
      "Requirement already satisfied: Pillow>=3.3.0 in /opt/conda/lib/python3.10/site-packages (from newspaper3k) (9.2.0)\n",
      "Collecting cssselect>=0.9.2\n",
      "  Downloading cssselect-1.2.0-py2.py3-none-any.whl (18 kB)\n",
      "Collecting tldextract>=2.0.1\n",
      "  Downloading tldextract-5.1.0-py3-none-any.whl (97 kB)\n",
      "\u001b[2K     \u001b[90m━━━━━━━━━━━━━━━━━━━━━━━━━━━━━━━━━━━━━━━━\u001b[0m \u001b[32m97.7/97.7 kB\u001b[0m \u001b[31m16.0 MB/s\u001b[0m eta \u001b[36m0:00:00\u001b[0m\n",
      "\u001b[?25hRequirement already satisfied: PyYAML>=3.11 in /opt/conda/lib/python3.10/site-packages (from newspaper3k) (6.0)\n",
      "Collecting feedfinder2>=0.0.4\n",
      "  Downloading feedfinder2-0.0.4.tar.gz (3.3 kB)\n",
      "  Preparing metadata (setup.py) ... \u001b[?25ldone\n",
      "\u001b[?25hCollecting tinysegmenter==0.3\n",
      "  Downloading tinysegmenter-0.3.tar.gz (16 kB)\n",
      "  Preparing metadata (setup.py) ... \u001b[?25ldone\n",
      "\u001b[?25hCollecting nltk>=3.2.1\n",
      "  Downloading nltk-3.8.1-py3-none-any.whl (1.5 MB)\n",
      "\u001b[2K     \u001b[90m━━━━━━━━━━━━━━━━━━━━━━━━━━━━━━━━━━━━━━━━\u001b[0m \u001b[32m1.5/1.5 MB\u001b[0m \u001b[31m63.0 MB/s\u001b[0m eta \u001b[36m0:00:00\u001b[0m\n",
      "\u001b[?25hCollecting jieba3k>=0.35.1\n",
      "  Downloading jieba3k-0.35.1.zip (7.4 MB)\n",
      "\u001b[2K     \u001b[90m━━━━━━━━━━━━━━━━━━━━━━━━━━━━━━━━━━━━━━━━\u001b[0m \u001b[32m7.4/7.4 MB\u001b[0m \u001b[31m73.6 MB/s\u001b[0m eta \u001b[36m0:00:00\u001b[0m:00:01\u001b[0m00:01\u001b[0m\n",
      "\u001b[?25h  Preparing metadata (setup.py) ... \u001b[?25ldone\n",
      "\u001b[?25hRequirement already satisfied: python-dateutil>=2.5.3 in /opt/conda/lib/python3.10/site-packages (from newspaper3k) (2.8.2)\n",
      "Collecting feedparser>=5.2.1\n",
      "  Downloading feedparser-6.0.10-py3-none-any.whl (81 kB)\n",
      "\u001b[2K     \u001b[90m━━━━━━━━━━━━━━━━━━━━━━━━━━━━━━━━━━━━━━━━\u001b[0m \u001b[32m81.1/81.1 kB\u001b[0m \u001b[31m13.9 MB/s\u001b[0m eta \u001b[36m0:00:00\u001b[0m\n",
      "\u001b[?25hRequirement already satisfied: beautifulsoup4>=4.4.1 in /opt/conda/lib/python3.10/site-packages (from newspaper3k) (4.11.1)\n",
      "Collecting lxml>=3.6.0\n",
      "  Downloading lxml-4.9.3-cp310-cp310-manylinux_2_28_x86_64.whl (7.9 MB)\n",
      "\u001b[2K     \u001b[90m━━━━━━━━━━━━━━━━━━━━━━━━━━━━━━━━━━━━━━━━\u001b[0m \u001b[32m7.9/7.9 MB\u001b[0m \u001b[31m69.7 MB/s\u001b[0m eta \u001b[36m0:00:00\u001b[0m:00:01\u001b[0m00:01\u001b[0m\n",
      "\u001b[?25hRequirement already satisfied: soupsieve>1.2 in /opt/conda/lib/python3.10/site-packages (from beautifulsoup4>=4.4.1->newspaper3k) (2.3.2.post1)\n",
      "Requirement already satisfied: six in /opt/conda/lib/python3.10/site-packages (from feedfinder2>=0.0.4->newspaper3k) (1.16.0)\n",
      "Collecting sgmllib3k\n",
      "  Downloading sgmllib3k-1.0.0.tar.gz (5.8 kB)\n",
      "  Preparing metadata (setup.py) ... \u001b[?25ldone\n",
      "\u001b[?25hCollecting regex>=2021.8.3\n",
      "  Downloading regex-2023.10.3-cp310-cp310-manylinux_2_17_x86_64.manylinux2014_x86_64.whl (773 kB)\n",
      "\u001b[2K     \u001b[90m━━━━━━━━━━━━━━━━━━━━━━━━━━━━━━━━━━━━━━\u001b[0m \u001b[32m773.9/773.9 kB\u001b[0m \u001b[31m52.1 MB/s\u001b[0m eta \u001b[36m0:00:00\u001b[0m\n",
      "\u001b[?25hRequirement already satisfied: click in /opt/conda/lib/python3.10/site-packages (from nltk>=3.2.1->newspaper3k) (8.1.3)\n",
      "Requirement already satisfied: joblib in /opt/conda/lib/python3.10/site-packages (from nltk>=3.2.1->newspaper3k) (1.2.0)\n",
      "Requirement already satisfied: tqdm in /opt/conda/lib/python3.10/site-packages (from nltk>=3.2.1->newspaper3k) (4.64.1)\n",
      "Requirement already satisfied: charset-normalizer<3,>=2 in /opt/conda/lib/python3.10/site-packages (from requests>=2.10.0->newspaper3k) (2.1.1)\n",
      "Requirement already satisfied: certifi>=2017.4.17 in /opt/conda/lib/python3.10/site-packages (from requests>=2.10.0->newspaper3k) (2022.12.7)\n",
      "Requirement already satisfied: urllib3<1.27,>=1.21.1 in /opt/conda/lib/python3.10/site-packages (from requests>=2.10.0->newspaper3k) (1.26.13)\n",
      "Requirement already satisfied: idna<4,>=2.5 in /opt/conda/lib/python3.10/site-packages (from requests>=2.10.0->newspaper3k) (3.4)\n",
      "Collecting requests-file>=1.4\n",
      "  Downloading requests_file-1.5.1-py2.py3-none-any.whl (3.7 kB)\n",
      "Collecting filelock>=3.0.8\n",
      "  Downloading filelock-3.13.1-py3-none-any.whl (11 kB)\n",
      "Building wheels for collected packages: tinysegmenter, feedfinder2, jieba3k, sgmllib3k\n",
      "  Building wheel for tinysegmenter (setup.py) ... \u001b[?25ldone\n",
      "\u001b[?25h  Created wheel for tinysegmenter: filename=tinysegmenter-0.3-py3-none-any.whl size=13540 sha256=dcf9259e34db34e2376cb3881dd20b2ecd1c4f9d1b0b87258338792f1f1dfa73\n",
      "  Stored in directory: /home/jovyan/.cache/pip/wheels/9e/14/bb/6f49188191db1acb539a457f2870a07a85f077526b9ad458cd\n",
      "  Building wheel for feedfinder2 (setup.py) ... \u001b[?25ldone\n",
      "\u001b[?25h  Created wheel for feedfinder2: filename=feedfinder2-0.0.4-py3-none-any.whl size=3339 sha256=b3c8d6d12a468af27ec3e20cada733837f6522b02da09877657b626e1d6b8a8d\n",
      "  Stored in directory: /home/jovyan/.cache/pip/wheels/15/21/7d/18b75fa5ae96421e6b78578f5299a350c6794cd16119173b63\n",
      "  Building wheel for jieba3k (setup.py) ... \u001b[?25ldone\n",
      "\u001b[?25h  Created wheel for jieba3k: filename=jieba3k-0.35.1-py3-none-any.whl size=7398382 sha256=db6d2d7c2f564ac05046ad5121195470f72d23798542f6b38fd7f3d238b3fb1b\n",
      "  Stored in directory: /home/jovyan/.cache/pip/wheels/2d/c5/ea/66b85aca88bcec82656760c49bb8614e0ef72ef87f08767590\n",
      "  Building wheel for sgmllib3k (setup.py) ... \u001b[?25ldone\n",
      "\u001b[?25h  Created wheel for sgmllib3k: filename=sgmllib3k-1.0.0-py3-none-any.whl size=6047 sha256=d727fe42bd087bcc99cf444a060760352bec08d26098052230322cb7f4d8c964\n",
      "  Stored in directory: /home/jovyan/.cache/pip/wheels/3b/24/68/f82c1fe16fe6cc7c6f9f67fe4bbf2a4ce527dea6b14a4b34ee\n",
      "Successfully built tinysegmenter feedfinder2 jieba3k sgmllib3k\n",
      "Installing collected packages: tinysegmenter, sgmllib3k, jieba3k, regex, lxml, filelock, feedparser, cssselect, requests-file, nltk, feedfinder2, tldextract, newspaper3k\n",
      "Successfully installed cssselect-1.2.0 feedfinder2-0.0.4 feedparser-6.0.10 filelock-3.13.1 jieba3k-0.35.1 lxml-4.9.3 newspaper3k-0.2.8 nltk-3.8.1 regex-2023.10.3 requests-file-1.5.1 sgmllib3k-1.0.0 tinysegmenter-0.3 tldextract-5.1.0\n"
     ]
    }
   ],
   "source": [
    "!pip install newspaper3k"
   ]
  },
  {
   "cell_type": "code",
   "execution_count": 27,
   "id": "0d8afa61-18bc-4b7e-9ae5-227273b167be",
   "metadata": {},
   "outputs": [],
   "source": [
    "import newspaper"
   ]
  },
  {
   "cell_type": "code",
   "execution_count": 39,
   "id": "48ae77e9-1233-4d3e-a9f3-7acab4c3ce0a",
   "metadata": {},
   "outputs": [],
   "source": [
    "art=newspaper.build('https://indianexpress.com')\n",
    "for i in art.articles:\n",
    "    print(i)"
   ]
  },
  {
   "cell_type": "code",
   "execution_count": null,
   "id": "fa2e88de-8733-45cf-b095-bef9e186bb41",
   "metadata": {},
   "outputs": [],
   "source": []
  },
  {
   "cell_type": "code",
   "execution_count": null,
   "id": "6ab0784b-2246-473d-acce-a06e239c5ee1",
   "metadata": {},
   "outputs": [],
   "source": []
  }
 ],
 "metadata": {
  "kernelspec": {
   "display_name": "Python 3 (ipykernel)",
   "language": "python",
   "name": "python3"
  },
  "language_info": {
   "codemirror_mode": {
    "name": "ipython",
    "version": 3
   },
   "file_extension": ".py",
   "mimetype": "text/x-python",
   "name": "python",
   "nbconvert_exporter": "python",
   "pygments_lexer": "ipython3",
   "version": "3.10.8"
  }
 },
 "nbformat": 4,
 "nbformat_minor": 5
}
